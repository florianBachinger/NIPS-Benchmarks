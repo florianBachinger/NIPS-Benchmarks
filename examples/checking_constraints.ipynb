{
 "cells": [
  {
   "cell_type": "code",
   "execution_count": 68,
   "metadata": {},
   "outputs": [],
   "source": [
    "import numpy as np\n",
    "import matplotlib.pyplot as plt\n",
    "import matplotlib.cm as cm\n",
    "from matplotlib.colors import Normalize\n",
    "\n",
    "import SCRBenchmark.SRSDFeynman as srsdf\n",
    "from SCRBenchmark import Benchmark\n",
    "\n",
    "import warnings\n",
    "import matplotlib.cbook\n",
    "warnings.filterwarnings(\"ignore\",category=UserWarning)\n",
    "warnings.filterwarnings(\"ignore\",category=matplotlib.cbook.mplDeprecation)\n",
    "\n",
    "def reportConstraintViolation(valid,constraints):\n",
    "    if(valid):\n",
    "        print(\"No Constraint Violated\")\n",
    "    else:\n",
    "        violation = [ f\"Id: {c['id']} VarName: {c['var_name']}\" for c in constraints]\n",
    "        print(f\"Violated the constraints: {violation}\")"
   ]
  },
  {
   "attachments": {},
   "cell_type": "markdown",
   "metadata": {},
   "source": [
    "# Checking Constraints\n",
    "\n",
    "## Analyzing the original equation\n",
    "Equation I.6.20, with \n",
    "\n",
    "$f(\\sigma, \\theta) = \\frac{1}{\\sigma\\sqrt{2\\pi}} \n",
    "  \\exp\\left( -\\frac{1}{2}\\left(\\frac{\\theta}{\\sigma}\\right)^{\\!2}\\,\\right)$\n",
    "\n",
    "is the probabilistic density function of the normal distribution. \n",
    "We can analyze the contour plot of this function to determine possible constraints."
   ]
  },
  {
   "cell_type": "code",
   "execution_count": 69,
   "metadata": {},
   "outputs": [
    {
     "data": {
      "text/plain": [
       "Text(0, 0.5, 'sigma')"
      ]
     },
     "execution_count": 69,
     "metadata": {},
     "output_type": "execute_result"
    },
    {
     "data": {
      "image/png": "[encoded data removed]",
      "text/plain": [
       "<Figure size 640x480 with 1 Axes>"
      ]
     },
     "metadata": {},
     "output_type": "display_data"
    }
   ],
   "source": [
    "ICh6Eq20 = Benchmark(srsdf.FeynmanICh6Eq20)\n",
    "\n",
    "xlist = np.linspace(-10,10, 100) # the valid range of theta for ICh6Eq20 (except for [-0.1,0.1])\n",
    "ylist = np.linspace(0.1, 10, 100) # the valid range of sigma for ICh6Eq20\n",
    "X, Y = np.meshgrid(xlist, ylist)\n",
    "\n",
    "grid_z_pos = ICh6Eq20.equation.calculate((X,Y))\n",
    "\n",
    "norm = Normalize( vmin=-np.max(grid_z_pos), vmax=np.max(grid_z_pos))\n",
    "cmap = cm.get_cmap('coolwarm')\n",
    "\n",
    "ax = plt.subplot()\n",
    "plt.contourf(X, Y, grid_z_pos, cmap= cmap , norm= norm)\n",
    "ax.set_xlabel('theta')\n",
    "ax.set_ylabel('sigma')\n"
   ]
  },
  {
   "attachments": {},
   "cell_type": "markdown",
   "metadata": {},
   "source": [
    "If we _zoom in_ to theta [-1,1] and sigma [0.1,1.5] we can see the effect more clearly:"
   ]
  },
  {
   "cell_type": "code",
   "execution_count": 70,
   "metadata": {},
   "outputs": [
    {
     "data": {
      "text/plain": [
       "(0.1, 1.5)"
      ]
     },
     "execution_count": 70,
     "metadata": {},
     "output_type": "execute_result"
    },
    {
     "data": {
      "image/png": "[encoded data removed]",
      "text/plain": [
       "<Figure size 640x480 with 1 Axes>"
      ]
     },
     "metadata": {},
     "output_type": "display_data"
    }
   ],
   "source": [
    "ICh6Eq20 = Benchmark(srsdf.FeynmanICh6Eq20)\n",
    "\n",
    "xlist = np.linspace(-10,10, 100) # the valid range of theta for ICh6Eq20 (except for [-0.1,0.1])\n",
    "ylist = np.linspace(0.1, 10, 100) # the valid range of sigma for ICh6Eq20\n",
    "X, Y = np.meshgrid(xlist, ylist)\n",
    "\n",
    "grid_z_pos = ICh6Eq20.equation.calculate((X,Y))\n",
    "\n",
    "norm = Normalize( vmin=-np.max(grid_z_pos), vmax=np.max(grid_z_pos))\n",
    "cmap = cm.get_cmap('coolwarm')\n",
    "\n",
    "ax = plt.subplot()\n",
    "plt.contourf(X, Y, grid_z_pos, cmap= cmap , norm= norm)\n",
    "ax.set_xlabel('theta')\n",
    "ax.set_ylabel('sigma')\n",
    "ax.set_xlim([-1,1])\n",
    "ax.set_ylim([0.1,1.5])\n"
   ]
  },
  {
   "attachments": {},
   "cell_type": "markdown",
   "metadata": {},
   "source": [
    "We can see that, if we hold sigma constant for any of its values, theta is monotonic increasing in theta<0 and monotonic decreasing in theta>0. This can also be determined algorithmically for any given equation. "
   ]
  },
  {
   "attachments": {},
   "cell_type": "markdown",
   "metadata": {},
   "source": [
    "## Determine constraints algorithmically\n",
    "The constraints can be determined algorithmically by:\n",
    "\n",
    "1. Calculating the partial derivatives of the function for each input using SymPy. \n",
    "1. Sampling a uniform dataset for all interesting _subdomains_ of our input space. \n",
    "    1. For ICh6Eq20 e.g., sampling for sigma is defined as ` DefaultSampling(1.0e-1, 1.0e1, uses_negative=False)` so [0.1,10] with a skew towards 0.1. Whereas, theta is defined as `DefaultSampling(1.0e-1, 1.0e1)` resulting in a concated [-10,-0.1] and [0.1,10] with a higher density at the joint (see `./examples/generate_data.ipynb` for more details).\n",
    "    1. Therefore, we split theta into positive and negative values and investigate the two quadrants `sigma,theta in [0.1,10]x[0.1,10]` and `sigma,theta in [0.1,10]x[-10,-0.1]` separately.\n",
    "    1. This step is repeated until all inputs, where positive and negative values are sampled, are split into two areas.\n",
    "1. We iterate over all sample subspaces and over all partial derivatives and calculate the gradient.\n",
    "1. If all values are e.g. positive, then the function is monotonically decreasing over the variable used for the partial derivative in the sampled subspace.\n",
    "\n",
    "This results in the following constraints for ICh6Eq20:\n",
    "```json\n",
    " \"Constraints\": [\n",
    "  {\n",
    "    \"var_display_name\": \"theta\",\n",
    "    \"order_derivative\": 1,\n",
    "    \"descriptor\": \"monotonic decreasing\",\n",
    "    \"derivative\": \"-sqrt(2)*x0*exp(-x0**2/(2*x1**2))/(2*sqrt(pi)*x1**3)\",\n",
    "    \"sample_space\": [{\n",
    "        \"name\": \"x0\",\n",
    "        \"low\": 0.1,\n",
    "        \"high\": 10.0\n",
    "      },{\n",
    "        \"name\": \"x1\",\n",
    "        \"low\": 0.1,\n",
    "        \"high\": 10.0\n",
    "      }],},\n",
    "  {\n",
    "    \"var_display_name\": \"theta\",\n",
    "    \"order_derivative\": 1,\n",
    "    \"descriptor\": \"monotonic increasing\",\n",
    "    \"derivative\": \"-sqrt(2)*x0*exp(-x0**2/(2*x1**2))/(2*sqrt(pi)*x1**3)\",\n",
    "    \"sample_space\": [{\n",
    "        \"name\": \"x0\",\n",
    "        \"low\": -10.0,\n",
    "        \"high\": -0.1\n",
    "      },{\n",
    "        \"name\": \"x1\",\n",
    "        \"low\": 0.1,\n",
    "        \"high\": 10.0\n",
    "      }],}\n",
    "]\n",
    "```\n",
    "\n",
    "**cf. `./generate/1-sample_constraints.py` for details.**"
   ]
  },
  {
   "attachments": {},
   "cell_type": "markdown",
   "metadata": {},
   "source": [
    "## Check constraints for a given function\n",
    "\n",
    "Checking constraints for a provided function is implemented similarly to the determination of constraints for the original equation function. However, as we know all available constraints and their respective input space for which they apply, we create only those subspaces for which we have constraints available.\n",
    "\n",
    "The following example illustrates functionality of our `benchmark.check_constraints`"
   ]
  },
  {
   "attachments": {},
   "cell_type": "markdown",
   "metadata": {},
   "source": [
    "### potential solutions: $-(theta*theta)$ and $(theta*theta)$\n",
    "The following contour plot should visualize that this $-(theta*theta)$ (is a very bad fit for data sampled from ICh6Eq20) but does fit our available constraints. Whereas, $(theta*theta)$ violates both available constraints"
   ]
  },
  {
   "cell_type": "code",
   "execution_count": 71,
   "metadata": {},
   "outputs": [
    {
     "data": {
      "image/png": "[encoded data removed]",
      "text/plain": [
       "<Figure size 1200x500 with 3 Axes>"
      ]
     },
     "metadata": {},
     "output_type": "display_data"
    }
   ],
   "source": [
    "ist = np.linspace(-10,10, 100) # the valid range of theta for ICh6Eq20 (except for [-0.1,0.1])\n",
    "ylist = np.linspace(0.1, 10, 100) # the valid range of sigma for ICh6Eq20\n",
    "X, Y = np.meshgrid(xlist, ylist)\n",
    "\n",
    "def f1(theta,sigma):\n",
    "    return -(theta*theta)\n",
    "def f2(theta,sigma):\n",
    "    return (theta*theta)\n",
    "\n",
    "grid_z_pos1 = f1(X,Y)\n",
    "grid_z_pos2 = f2(X,Y)\n",
    "\n",
    "fig, ax = plt.subplots(1,2, figsize=(12,5),  sharey=True)\n",
    "norm = Normalize( vmin=np.min([np.min(grid_z_pos1), np.min(grid_z_pos2)]), \n",
    "                  vmax=np.max([np.max(grid_z_pos1), np.max(grid_z_pos2)]))\n",
    "cmap = cm.get_cmap('coolwarm')\n",
    "\n",
    "ax[0].contourf(X, Y, grid_z_pos1, cmap= cmap , norm= norm)\n",
    "ax[1].contourf(X, Y, grid_z_pos2, cmap= cmap , norm= norm)\n",
    "ax[0].set_xlabel('theta')\n",
    "ax[1].set_xlabel('theta')\n",
    "ax[0].set_ylabel('sigma')\n",
    "\n",
    "plt.subplots_adjust(left=0.09, bottom=0.22, right=0.87, top=0.85, wspace=0.1, hspace=0.1)\n",
    "cbar_ax = fig.add_axes([.89, .22, .025, .63])\n",
    "cbar = fig.colorbar(cm.ScalarMappable(norm=norm, cmap=cmap),cax = cbar_ax)"
   ]
  },
  {
   "cell_type": "code",
   "execution_count": 72,
   "metadata": {},
   "outputs": [
    {
     "name": "stdout",
     "output_type": "stream",
     "text": [
      "No Constraint Violated\n"
     ]
    }
   ],
   "source": [
    "(valid, constraints) = ICh6Eq20.check_constraints(\"-(theta*theta)\",use_display_names=True)\n",
    "reportConstraintViolation(valid, constraints)"
   ]
  },
  {
   "cell_type": "code",
   "execution_count": 73,
   "metadata": {},
   "outputs": [
    {
     "name": "stdout",
     "output_type": "stream",
     "text": [
      "Violated the constraints: ['Id: 1 VarName: x0', 'Id: 2 VarName: x0']\n"
     ]
    }
   ],
   "source": [
    "(valid, constraints) = ICh6Eq20.check_constraints(\"(theta*theta)\",use_display_names=True)\n",
    "reportConstraintViolation(valid, constraints)"
   ]
  },
  {
   "attachments": {},
   "cell_type": "markdown",
   "metadata": {},
   "source": [
    "### potential solutions: $theta$ and $-theta$\n",
    "Are both constructed to violate only one constraint. Therefore, our interface returns false and lists only the one violated constraint in its full definition."
   ]
  },
  {
   "cell_type": "code",
   "execution_count": 74,
   "metadata": {},
   "outputs": [
    {
     "data": {
      "image/png": "[encoded data removed]",
      "text/plain": [
       "<Figure size 1200x500 with 3 Axes>"
      ]
     },
     "metadata": {},
     "output_type": "display_data"
    }
   ],
   "source": [
    "ist = np.linspace(-10,10, 100) # the valid range of theta for ICh6Eq20 (except for [-0.1,0.1])\n",
    "ylist = np.linspace(0.1, 10, 100) # the valid range of sigma for ICh6Eq20\n",
    "X, Y = np.meshgrid(xlist, ylist)\n",
    "\n",
    "def f1(theta,sigma):\n",
    "    return theta\n",
    "def f2(theta,sigma):\n",
    "    return -theta\n",
    "grid_z_pos1 = f1(X,Y)\n",
    "grid_z_pos2 = f2(X,Y)\n",
    "\n",
    "fig, ax = plt.subplots(1,2, figsize=(12,5),  sharey=True)\n",
    "norm = Normalize( vmin=np.min([np.min(grid_z_pos1), np.min(grid_z_pos2)]), \n",
    "                  vmax=np.max([np.max(grid_z_pos1), np.max(grid_z_pos2)]))\n",
    "cmap = cm.get_cmap('coolwarm')\n",
    "\n",
    "ax[0].contourf(X, Y, grid_z_pos1, cmap= cmap , norm= norm)\n",
    "ax[1].contourf(X, Y, grid_z_pos2, cmap= cmap , norm= norm)\n",
    "ax[0].set_xlabel('theta')\n",
    "ax[1].set_xlabel('theta')\n",
    "ax[0].set_ylabel('sigma')\n",
    "\n",
    "plt.subplots_adjust(left=0.09, bottom=0.22, right=0.87, top=0.85, wspace=0.1, hspace=0.1)\n",
    "cbar_ax = fig.add_axes([.89, .22, .025, .63])\n",
    "cbar = fig.colorbar(cm.ScalarMappable(norm=norm, cmap=cmap),cax = cbar_ax)"
   ]
  },
  {
   "cell_type": "code",
   "execution_count": 75,
   "metadata": {},
   "outputs": [
    {
     "name": "stdout",
     "output_type": "stream",
     "text": [
      "Violated the constraints: ['Id: 1 VarName: x0']\n"
     ]
    }
   ],
   "source": [
    "(valid, constraints) = ICh6Eq20.check_constraints(\"theta\",use_display_names=True)\n",
    "reportConstraintViolation(valid, constraints)"
   ]
  },
  {
   "cell_type": "code",
   "execution_count": 76,
   "metadata": {},
   "outputs": [
    {
     "name": "stdout",
     "output_type": "stream",
     "text": [
      "Violated the constraints: ['Id: 2 VarName: x0']\n"
     ]
    }
   ],
   "source": [
    "(valid, constraints) = ICh6Eq20.check_constraints(\"-theta\",use_display_names=True)\n",
    "reportConstraintViolation(valid, constraints)"
   ]
  },
  {
   "attachments": {},
   "cell_type": "markdown",
   "metadata": {},
   "source": [
    "## Alternative usages and variable names\n",
    "The examples above utilize the human-readable display names of the equations. Instead, we can also use the numbered inputs and interchange functionality freely."
   ]
  },
  {
   "cell_type": "code",
   "execution_count": 77,
   "metadata": {},
   "outputs": [
    {
     "name": "stdout",
     "output_type": "stream",
     "text": [
      "No Constraint Violated\n",
      "Violated the constraints: ['Id: 1 VarName: x0']\n",
      "Violated the constraints: ['Id: 2 VarName: x0']\n",
      "Violated the constraints: ['Id: 1 VarName: x0', 'Id: 2 VarName: x0']\n",
      "No Constraint Violated\n",
      "Violated the constraints: ['Id: 1 VarName: x0']\n",
      "Violated the constraints: ['Id: 2 VarName: x0']\n",
      "Violated the constraints: ['Id: 1 VarName: x0', 'Id: 2 VarName: x0']\n"
     ]
    }
   ],
   "source": [
    "ICh6Eq20 = Benchmark(srsdf.FeynmanICh6Eq20)\n",
    "# Raw: exp(-(theta / sigma) ** 2 / 2) / (sqrt(2 * pi) * sigma)\n",
    "# is monotonic increasing over theta in -inf. <= theta <= 0\n",
    "# is monotonic decreasing over theta in 0 <= theta <= inf.\n",
    "\n",
    "############################################\n",
    "#use the short variable names of SRSDFeynman\n",
    "############################################\n",
    "\n",
    "#prints true as no constraint is violated\n",
    "reportConstraintViolation(*ICh6Eq20.check_constraints(\"-(x0*x0)\"))\n",
    "\n",
    "#prints false as the decreasing constraint for 0 <= theta <= inf. is violated\n",
    "reportConstraintViolation(*ICh6Eq20.check_constraints(\"x0\"))\n",
    "\n",
    "#prints false as the increasing constraint for -inf. <= theta <= 0 is violated\n",
    "reportConstraintViolation(*ICh6Eq20.check_constraints(\"-x0\"))\n",
    "\n",
    "#prints false as both constraints for x0 (theta) are violated\n",
    "reportConstraintViolation(*ICh6Eq20.check_constraints(\"(x0*x0)\"))\n",
    "\n",
    "ICh6Eq20 = Benchmark(srsdf.FeynmanICh6Eq20, initialize_constraint_checking_datasets = False)\n",
    "########################################################################\n",
    "# test the same function, expect the same outputs, but use display names\n",
    "########################################################################\n",
    "#prints true as no constraint is violated\n",
    "reportConstraintViolation(*ICh6Eq20.check_constraints(\"-(theta*theta)\",use_display_names=True))\n",
    "\n",
    "#prints false as the decreasing constraint for 0 <= theta <= inf. is violated\n",
    "reportConstraintViolation(*ICh6Eq20.check_constraints(\"theta\",use_display_names=True))\n",
    "\n",
    "#prints false as the increasing constraint for -inf. <= theta <= 0 is violated\n",
    "reportConstraintViolation(*ICh6Eq20.check_constraints(\"-theta\",use_display_names=True))\n",
    "\n",
    "#prints false as both constraints for x0 (theta) are violated\n",
    "reportConstraintViolation(*ICh6Eq20.check_constraints(\"(theta*theta)\",use_display_names=True))"
   ]
  }
 ],
 "metadata": {
  "kernelspec": {
   "display_name": "NIPS-Benchmarks",
   "language": "python",
   "name": "python3"
  },
  "language_info": {
   "codemirror_mode": {
    "name": "ipython",
    "version": 3
   },
   "file_extension": ".py",
   "mimetype": "text/x-python",
   "name": "python",
   "nbconvert_exporter": "python",
   "pygments_lexer": "ipython3",
   "version": "3.10.2"
  },
  "orig_nbformat": 4
 },
 "nbformat": 4,
 "nbformat_minor": 2
}
